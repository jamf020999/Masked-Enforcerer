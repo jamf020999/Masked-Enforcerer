# ============================================
# 🧠 Face Mask Detection - Initial Setup
# Author: Jose Moreno
# Course: ITAI 1378 - Computer Vision and AI
# ============================================

# --- Install required packages (if needed) ---
!pip install ultralytics==8.3.0 opencv-python torch torchvision matplotlib numpy pandas tqdm --quiet

# --- Import necessary libraries ---
import torch
import cv2
import numpy as np
import pandas as pd
import matplotlib.pyplot as plt
from tqdm import tqdm
from ultralytics import YOLO

# --- Check environment ---
print("✅ Environment ready!")
print(f"PyTorch version: {torch.__version__}")
print(f"CUDA available: {torch.cuda.is_available()}")
print(f"OpenCV version: {cv2.__version__}")

